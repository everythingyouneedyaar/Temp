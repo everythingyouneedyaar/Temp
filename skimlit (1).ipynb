{
 "cells": [
  {
   "cell_type": "code",
   "execution_count": 1,
   "id": "b04b46e2",
   "metadata": {},
   "outputs": [
    {
     "name": "stderr",
     "output_type": "stream",
     "text": [
      "2025-05-27 02:33:46.218081: I external/local_xla/xla/tsl/cuda/cudart_stub.cc:32] Could not find cuda drivers on your machine, GPU will not be used.\n",
      "2025-05-27 02:33:51.224412: I external/local_xla/xla/tsl/cuda/cudart_stub.cc:32] Could not find cuda drivers on your machine, GPU will not be used.\n",
      "2025-05-27 02:33:52.914972: E external/local_xla/xla/stream_executor/cuda/cuda_fft.cc:467] Unable to register cuFFT factory: Attempting to register factory for plugin cuFFT when one has already been registered\n",
      "WARNING: All log messages before absl::InitializeLog() is called are written to STDERR\n",
      "E0000 00:00:1748313235.759855    2376 cuda_dnn.cc:8579] Unable to register cuDNN factory: Attempting to register factory for plugin cuDNN when one has already been registered\n",
      "E0000 00:00:1748313236.450672    2376 cuda_blas.cc:1407] Unable to register cuBLAS factory: Attempting to register factory for plugin cuBLAS when one has already been registered\n",
      "W0000 00:00:1748313242.289446    2376 computation_placer.cc:177] computation placer already registered. Please check linkage and avoid linking the same target more than once.\n",
      "W0000 00:00:1748313242.289481    2376 computation_placer.cc:177] computation placer already registered. Please check linkage and avoid linking the same target more than once.\n",
      "W0000 00:00:1748313242.289485    2376 computation_placer.cc:177] computation placer already registered. Please check linkage and avoid linking the same target more than once.\n",
      "W0000 00:00:1748313242.289488    2376 computation_placer.cc:177] computation placer already registered. Please check linkage and avoid linking the same target more than once.\n",
      "2025-05-27 02:34:02.567900: I tensorflow/core/platform/cpu_feature_guard.cc:210] This TensorFlow binary is optimized to use available CPU instructions in performance-critical operations.\n",
      "To enable the following instructions: AVX2 FMA, in other operations, rebuild TensorFlow with the appropriate compiler flags.\n"
     ]
    }
   ],
   "source": [
    "import re\n",
    "import numpy as np\n",
    "import pandas as pd\n",
    "import matplotlib.pyplot as plt\n",
    "import seaborn as sns\n",
    "\n",
    "import tensorflow as tf\n",
    "import tensorflow_hub as hub\n",
    "from tensorflow.keras import layers\n",
    "from tensorflow.keras.utils import plot_model\n",
    "\n",
    "from sklearn.preprocessing import OneHotEncoder, LabelEncoder\n",
    "from sklearn.metrics import (\n",
    "    accuracy_score, top_k_accuracy_score, f1_score, matthews_corrcoef,\n",
    "    classification_report, precision_recall_fscore_support,\n",
    "    confusion_matrix, ConfusionMatrixDisplay\n",
    ")"
   ]
  },
  {
   "cell_type": "code",
   "execution_count": 2,
   "id": "e8fd8830",
   "metadata": {},
   "outputs": [
    {
     "name": "stdout",
     "output_type": "stream",
     "text": [
      "fatal: destination path 'pubmed-rct' already exists and is not an empty directory.\n",
      "PubMed_200k_RCT\n",
      "PubMed_200k_RCT_numbers_replaced_with_at_sign\n",
      "PubMed_20k_RCT\n",
      "PubMed_20k_RCT_numbers_replaced_with_at_sign\n",
      "README.md\n"
     ]
    }
   ],
   "source": [
    "!git clone https://github.com/Franck-Dernoncourt/pubmed-rct.git # get the data here\n",
    "!ls pubmed-rct"
   ]
  },
  {
   "cell_type": "code",
   "execution_count": 25,
   "id": "a9e2c44b",
   "metadata": {},
   "outputs": [],
   "source": [
    "!cd pubmed-rct/"
   ]
  },
  {
   "cell_type": "code",
   "execution_count": 26,
   "id": "299f4dcb",
   "metadata": {},
   "outputs": [],
   "source": [
    "dataset_dir = 'pubmed-rct/PubMed_20k_RCT_numbers_replaced_with_at_sign/'"
   ]
  },
  {
   "cell_type": "code",
   "execution_count": 27,
   "id": "f20c03b5",
   "metadata": {},
   "outputs": [],
   "source": [
    "def get_raw_data(filepath):\n",
    "    with open(filepath) as f:\n",
    "        return f.readlines()"
   ]
  },
  {
   "cell_type": "code",
   "execution_count": 28,
   "id": "2b623a17",
   "metadata": {},
   "outputs": [],
   "source": [
    "# Load the data\n",
    "train_data = get_raw_data(dataset_dir + 'train.txt')"
   ]
  },
  {
   "cell_type": "code",
   "execution_count": 29,
   "id": "b52ce41a",
   "metadata": {},
   "outputs": [],
   "source": [
    "import os"
   ]
  },
  {
   "cell_type": "code",
   "execution_count": 30,
   "id": "b8431a3f",
   "metadata": {},
   "outputs": [
    {
     "name": "stdout",
     "output_type": "stream",
     "text": [
      "dev.txt  test.txt  train.txt\n"
     ]
    }
   ],
   "source": [
    "!ls pubmed-rct/PubMed_20k_RCT_numbers_replaced_with_at_sign/"
   ]
  },
  {
   "cell_type": "code",
   "execution_count": 32,
   "id": "166a5881",
   "metadata": {},
   "outputs": [
    {
     "data": {
      "text/plain": [
       "['###24293578\\n',\n",
       " 'OBJECTIVE\\tTo investigate the efficacy of @ weeks of daily low-dose oral prednisolone in improving pain , mobility , and systemic low-grade inflammation in the short term and whether the effect would be sustained at @ weeks in older adults with moderate to severe knee osteoarthritis ( OA ) .\\n',\n",
       " 'METHODS\\tA total of @ patients with primary knee OA were randomized @:@ ; @ received @ mg/day of prednisolone and @ received placebo for @ weeks .\\n',\n",
       " 'METHODS\\tOutcome measures included pain reduction and improvement in function scores and systemic inflammation markers .\\n',\n",
       " 'METHODS\\tPain was assessed using the visual analog pain scale ( @-@ mm ) .\\n',\n",
       " 'METHODS\\tSecondary outcome measures included the Western Ontario and McMaster Universities Osteoarthritis Index scores , patient global assessment ( PGA ) of the severity of knee OA , and @-min walk distance ( @MWD ) .\\n',\n",
       " 'METHODS\\tSerum levels of interleukin @ ( IL-@ ) , IL-@ , tumor necrosis factor ( TNF ) - , and high-sensitivity C-reactive protein ( hsCRP ) were measured .\\n',\n",
       " 'RESULTS\\tThere was a clinically relevant reduction in the intervention group compared to the placebo group for knee pain , physical function , PGA , and @MWD at @ weeks .\\n',\n",
       " 'RESULTS\\tThe mean difference between treatment arms ( @ % CI ) was @ ( @-@ @ ) , p < @ ; @ ( @-@ @ ) , p < @ ; @ ( @-@ @ ) , p < @ ; and @ ( @-@ @ ) , p < @ , respectively .\\n',\n",
       " 'RESULTS\\tFurther , there was a clinically relevant reduction in the serum levels of IL-@ , IL-@ , TNF - , and hsCRP at @ weeks in the intervention group when compared to the placebo group .\\n',\n",
       " 'RESULTS\\tThese differences remained significant at @ weeks .\\n',\n",
       " 'RESULTS\\tThe Outcome Measures in Rheumatology Clinical Trials-Osteoarthritis Research Society International responder rate was @ % in the intervention group and @ % in the placebo group ( p < @ ) .\\n',\n",
       " 'CONCLUSIONS\\tLow-dose oral prednisolone had both a short-term and a longer sustained effect resulting in less knee pain , better physical function , and attenuation of systemic inflammation in older patients with knee OA ( ClinicalTrials.gov identifier NCT@ ) .\\n',\n",
       " '\\n',\n",
       " '###24854809\\n',\n",
       " 'BACKGROUND\\tEmotional eating is associated with overeating and the development of obesity .\\n',\n",
       " 'BACKGROUND\\tYet , empirical evidence for individual ( trait ) differences in emotional eating and cognitive mechanisms that contribute to eating during sad mood remain equivocal .\\n',\n",
       " 'OBJECTIVE\\tThe aim of this study was to test if attention bias for food moderates the effect of self-reported emotional eating during sad mood ( vs neutral mood ) on actual food intake .\\n',\n",
       " 'OBJECTIVE\\tIt was expected that emotional eating is predictive of elevated attention for food and higher food intake after an experimentally induced sad mood and that attentional maintenance on food predicts food intake during a sad versus a neutral mood .\\n',\n",
       " 'METHODS\\tParticipants ( N = @ ) were randomly assigned to one of the two experimental mood induction conditions ( sad/neutral ) .\\n']"
      ]
     },
     "execution_count": 32,
     "metadata": {},
     "output_type": "execute_result"
    }
   ],
   "source": [
    "# View the first 20 lines from the dataset text file\n",
    "train_data[:20]"
   ]
  },
  {
   "cell_type": "code",
   "execution_count": 33,
   "id": "22512456",
   "metadata": {},
   "outputs": [],
   "source": [
    "# %%\n",
    "def preprocess_raw_data(filepath):\n",
    "    raw_data = get_raw_data(filepath)\n",
    "    abstract_data = ''\n",
    "    abstract_samples = []\n",
    "    abstract_id = 0\n",
    "\n",
    "    for line in raw_data:\n",
    "        if line.startswith('###'): # check if current line is an abstract start (line -> ###[abstract_id]\\n)\n",
    "            abstract_id = int(line.replace('###', '').replace('\\n', '')) # get abstract id\n",
    "            abstract_data = ''\n",
    "\n",
    "        elif line.isspace(): # check if current line is an abstract end (line -> '\\n')\n",
    "            abstract_data_split = abstract_data.splitlines()\n",
    "\n",
    "            for abstract_line_number, abstract_line in enumerate(abstract_data_split):\n",
    "                line_data = {} # store lines in dictionary\n",
    "                target_text_split = abstract_line.split(\"\\t\") # split target label from text\n",
    "\n",
    "                line_data[\"abstract_id\"] = abstract_id # get abstract id\n",
    "                line_data[\"line_id\"] = f'{abstract_id}_{abstract_line_number}_{len(abstract_data_split)}' # create id for each line\n",
    "                line_data[\"abstract_text\"] = target_text_split[1] # get target text and lower it\n",
    "                line_data[\"line_number\"] = abstract_line_number # get line number in the abstract\n",
    "                line_data[\"total_lines\"] = len(abstract_data_split) # get total count for abstract lines (counter starts at 1)\n",
    "                line_data['current_line'] = f'{abstract_line_number}_{len(abstract_data_split)}' # embed line_number & total_lines into one feature\n",
    "                line_data[\"target\"] = target_text_split[0] # get target label\n",
    "\n",
    "                abstract_samples.append(line_data) # append line data to abstract samples list\n",
    "\n",
    "        else: # if the above conditions aren't fulfilled, the line is a abstract text line (line -> [TARGET]\\t[abstract_text])\n",
    "            abstract_data += line\n",
    "\n",
    "    return abstract_samples\n",
    "# %%"
   ]
  },
  {
   "cell_type": "code",
   "execution_count": 34,
   "id": "fbf101df",
   "metadata": {},
   "outputs": [],
   "source": [
    "# Get train data from file and preprocess it\n",
    "train_samples = preprocess_raw_data(dataset_dir + \"train.txt\")"
   ]
  },
  {
   "cell_type": "code",
   "execution_count": 35,
   "id": "1515d117",
   "metadata": {},
   "outputs": [],
   "source": [
    "# Get dev/validation data from file and preprocess it\n",
    "val_samples = preprocess_raw_data(dataset_dir + \"dev.txt\")"
   ]
  },
  {
   "cell_type": "code",
   "execution_count": 36,
   "id": "dc5a4afe",
   "metadata": {},
   "outputs": [],
   "source": [
    "# Get test data from file and preprocess it\n",
    "test_samples = preprocess_raw_data(dataset_dir + \"test.txt\")"
   ]
  },
  {
   "cell_type": "code",
   "execution_count": 37,
   "id": "814990d5",
   "metadata": {},
   "outputs": [],
   "source": [
    "train_count = len(train_samples)\n",
    "val_count = len(val_samples)\n",
    "test_count = len(test_samples)\n",
    "total = train_count + val_count + test_count"
   ]
  },
  {
   "cell_type": "code",
   "execution_count": 38,
   "id": "c077e0d6",
   "metadata": {},
   "outputs": [
    {
     "name": "stdout",
     "output_type": "stream",
     "text": [
      "train samples count:\t\t180040\n",
      "dev/validation samples count:\t30212\n",
      "test samples count:\t\t30135\n",
      "\n",
      "total samples:\t\t\t240387\n"
     ]
    }
   ],
   "source": [
    "print(f'train samples count:\\t\\t{train_count}')\n",
    "print(f'dev/validation samples count:\\t{val_count}')\n",
    "print(f'test samples count:\\t\\t{test_count}')\n",
    "\n",
    "print(f'\\ntotal samples:\\t\\t\\t{total}')"
   ]
  },
  {
   "cell_type": "code",
   "execution_count": 39,
   "id": "7484d827",
   "metadata": {},
   "outputs": [
    {
     "data": {
      "text/plain": [
       "[{'abstract_id': 24293578,\n",
       "  'line_id': '24293578_0_12',\n",
       "  'abstract_text': 'To investigate the efficacy of @ weeks of daily low-dose oral prednisolone in improving pain , mobility , and systemic low-grade inflammation in the short term and whether the effect would be sustained at @ weeks in older adults with moderate to severe knee osteoarthritis ( OA ) .',\n",
       "  'line_number': 0,\n",
       "  'total_lines': 12,\n",
       "  'current_line': '0_12',\n",
       "  'target': 'OBJECTIVE'},\n",
       " {'abstract_id': 24293578,\n",
       "  'line_id': '24293578_1_12',\n",
       "  'abstract_text': 'A total of @ patients with primary knee OA were randomized @:@ ; @ received @ mg/day of prednisolone and @ received placebo for @ weeks .',\n",
       "  'line_number': 1,\n",
       "  'total_lines': 12,\n",
       "  'current_line': '1_12',\n",
       "  'target': 'METHODS'},\n",
       " {'abstract_id': 24293578,\n",
       "  'line_id': '24293578_2_12',\n",
       "  'abstract_text': 'Outcome measures included pain reduction and improvement in function scores and systemic inflammation markers .',\n",
       "  'line_number': 2,\n",
       "  'total_lines': 12,\n",
       "  'current_line': '2_12',\n",
       "  'target': 'METHODS'},\n",
       " {'abstract_id': 24293578,\n",
       "  'line_id': '24293578_3_12',\n",
       "  'abstract_text': 'Pain was assessed using the visual analog pain scale ( @-@ mm ) .',\n",
       "  'line_number': 3,\n",
       "  'total_lines': 12,\n",
       "  'current_line': '3_12',\n",
       "  'target': 'METHODS'},\n",
       " {'abstract_id': 24293578,\n",
       "  'line_id': '24293578_4_12',\n",
       "  'abstract_text': 'Secondary outcome measures included the Western Ontario and McMaster Universities Osteoarthritis Index scores , patient global assessment ( PGA ) of the severity of knee OA , and @-min walk distance ( @MWD ) .',\n",
       "  'line_number': 4,\n",
       "  'total_lines': 12,\n",
       "  'current_line': '4_12',\n",
       "  'target': 'METHODS'},\n",
       " {'abstract_id': 24293578,\n",
       "  'line_id': '24293578_5_12',\n",
       "  'abstract_text': 'Serum levels of interleukin @ ( IL-@ ) , IL-@ , tumor necrosis factor ( TNF ) - , and high-sensitivity C-reactive protein ( hsCRP ) were measured .',\n",
       "  'line_number': 5,\n",
       "  'total_lines': 12,\n",
       "  'current_line': '5_12',\n",
       "  'target': 'METHODS'},\n",
       " {'abstract_id': 24293578,\n",
       "  'line_id': '24293578_6_12',\n",
       "  'abstract_text': 'There was a clinically relevant reduction in the intervention group compared to the placebo group for knee pain , physical function , PGA , and @MWD at @ weeks .',\n",
       "  'line_number': 6,\n",
       "  'total_lines': 12,\n",
       "  'current_line': '6_12',\n",
       "  'target': 'RESULTS'},\n",
       " {'abstract_id': 24293578,\n",
       "  'line_id': '24293578_7_12',\n",
       "  'abstract_text': 'The mean difference between treatment arms ( @ % CI ) was @ ( @-@ @ ) , p < @ ; @ ( @-@ @ ) , p < @ ; @ ( @-@ @ ) , p < @ ; and @ ( @-@ @ ) , p < @ , respectively .',\n",
       "  'line_number': 7,\n",
       "  'total_lines': 12,\n",
       "  'current_line': '7_12',\n",
       "  'target': 'RESULTS'},\n",
       " {'abstract_id': 24293578,\n",
       "  'line_id': '24293578_8_12',\n",
       "  'abstract_text': 'Further , there was a clinically relevant reduction in the serum levels of IL-@ , IL-@ , TNF - , and hsCRP at @ weeks in the intervention group when compared to the placebo group .',\n",
       "  'line_number': 8,\n",
       "  'total_lines': 12,\n",
       "  'current_line': '8_12',\n",
       "  'target': 'RESULTS'},\n",
       " {'abstract_id': 24293578,\n",
       "  'line_id': '24293578_9_12',\n",
       "  'abstract_text': 'These differences remained significant at @ weeks .',\n",
       "  'line_number': 9,\n",
       "  'total_lines': 12,\n",
       "  'current_line': '9_12',\n",
       "  'target': 'RESULTS'}]"
      ]
     },
     "execution_count": 39,
     "metadata": {},
     "output_type": "execute_result"
    }
   ],
   "source": [
    "# View first 10 abstracts from the train set\n",
    "train_samples[:10]"
   ]
  },
  {
   "cell_type": "code",
   "execution_count": 40,
   "id": "bc2ea4f6",
   "metadata": {},
   "outputs": [],
   "source": [
    "train_df = pd.DataFrame(train_samples)\n",
    "val_df = pd.DataFrame(val_samples)\n",
    "test_df = pd.DataFrame(test_samples)"
   ]
  },
  {
   "cell_type": "code",
   "execution_count": 41,
   "id": "d4dc13fa",
   "metadata": {},
   "outputs": [
    {
     "data": {
      "text/html": [
       "<div>\n",
       "<style scoped>\n",
       "    .dataframe tbody tr th:only-of-type {\n",
       "        vertical-align: middle;\n",
       "    }\n",
       "\n",
       "    .dataframe tbody tr th {\n",
       "        vertical-align: top;\n",
       "    }\n",
       "\n",
       "    .dataframe thead th {\n",
       "        text-align: right;\n",
       "    }\n",
       "</style>\n",
       "<table border=\"1\" class=\"dataframe\">\n",
       "  <thead>\n",
       "    <tr style=\"text-align: right;\">\n",
       "      <th></th>\n",
       "      <th>abstract_id</th>\n",
       "      <th>line_id</th>\n",
       "      <th>abstract_text</th>\n",
       "      <th>line_number</th>\n",
       "      <th>total_lines</th>\n",
       "      <th>current_line</th>\n",
       "      <th>target</th>\n",
       "    </tr>\n",
       "  </thead>\n",
       "  <tbody>\n",
       "    <tr>\n",
       "      <th>0</th>\n",
       "      <td>24293578</td>\n",
       "      <td>24293578_0_12</td>\n",
       "      <td>To investigate the efficacy of @ weeks of dail...</td>\n",
       "      <td>0</td>\n",
       "      <td>12</td>\n",
       "      <td>0_12</td>\n",
       "      <td>OBJECTIVE</td>\n",
       "    </tr>\n",
       "    <tr>\n",
       "      <th>1</th>\n",
       "      <td>24293578</td>\n",
       "      <td>24293578_1_12</td>\n",
       "      <td>A total of @ patients with primary knee OA wer...</td>\n",
       "      <td>1</td>\n",
       "      <td>12</td>\n",
       "      <td>1_12</td>\n",
       "      <td>METHODS</td>\n",
       "    </tr>\n",
       "    <tr>\n",
       "      <th>2</th>\n",
       "      <td>24293578</td>\n",
       "      <td>24293578_2_12</td>\n",
       "      <td>Outcome measures included pain reduction and i...</td>\n",
       "      <td>2</td>\n",
       "      <td>12</td>\n",
       "      <td>2_12</td>\n",
       "      <td>METHODS</td>\n",
       "    </tr>\n",
       "    <tr>\n",
       "      <th>3</th>\n",
       "      <td>24293578</td>\n",
       "      <td>24293578_3_12</td>\n",
       "      <td>Pain was assessed using the visual analog pain...</td>\n",
       "      <td>3</td>\n",
       "      <td>12</td>\n",
       "      <td>3_12</td>\n",
       "      <td>METHODS</td>\n",
       "    </tr>\n",
       "    <tr>\n",
       "      <th>4</th>\n",
       "      <td>24293578</td>\n",
       "      <td>24293578_4_12</td>\n",
       "      <td>Secondary outcome measures included the Wester...</td>\n",
       "      <td>4</td>\n",
       "      <td>12</td>\n",
       "      <td>4_12</td>\n",
       "      <td>METHODS</td>\n",
       "    </tr>\n",
       "    <tr>\n",
       "      <th>5</th>\n",
       "      <td>24293578</td>\n",
       "      <td>24293578_5_12</td>\n",
       "      <td>Serum levels of interleukin @ ( IL-@ ) , IL-@ ...</td>\n",
       "      <td>5</td>\n",
       "      <td>12</td>\n",
       "      <td>5_12</td>\n",
       "      <td>METHODS</td>\n",
       "    </tr>\n",
       "    <tr>\n",
       "      <th>6</th>\n",
       "      <td>24293578</td>\n",
       "      <td>24293578_6_12</td>\n",
       "      <td>There was a clinically relevant reduction in t...</td>\n",
       "      <td>6</td>\n",
       "      <td>12</td>\n",
       "      <td>6_12</td>\n",
       "      <td>RESULTS</td>\n",
       "    </tr>\n",
       "    <tr>\n",
       "      <th>7</th>\n",
       "      <td>24293578</td>\n",
       "      <td>24293578_7_12</td>\n",
       "      <td>The mean difference between treatment arms ( @...</td>\n",
       "      <td>7</td>\n",
       "      <td>12</td>\n",
       "      <td>7_12</td>\n",
       "      <td>RESULTS</td>\n",
       "    </tr>\n",
       "    <tr>\n",
       "      <th>8</th>\n",
       "      <td>24293578</td>\n",
       "      <td>24293578_8_12</td>\n",
       "      <td>Further , there was a clinically relevant redu...</td>\n",
       "      <td>8</td>\n",
       "      <td>12</td>\n",
       "      <td>8_12</td>\n",
       "      <td>RESULTS</td>\n",
       "    </tr>\n",
       "    <tr>\n",
       "      <th>9</th>\n",
       "      <td>24293578</td>\n",
       "      <td>24293578_9_12</td>\n",
       "      <td>These differences remained significant at @ we...</td>\n",
       "      <td>9</td>\n",
       "      <td>12</td>\n",
       "      <td>9_12</td>\n",
       "      <td>RESULTS</td>\n",
       "    </tr>\n",
       "    <tr>\n",
       "      <th>10</th>\n",
       "      <td>24293578</td>\n",
       "      <td>24293578_10_12</td>\n",
       "      <td>The Outcome Measures in Rheumatology Clinical ...</td>\n",
       "      <td>10</td>\n",
       "      <td>12</td>\n",
       "      <td>10_12</td>\n",
       "      <td>RESULTS</td>\n",
       "    </tr>\n",
       "    <tr>\n",
       "      <th>11</th>\n",
       "      <td>24293578</td>\n",
       "      <td>24293578_11_12</td>\n",
       "      <td>Low-dose oral prednisolone had both a short-te...</td>\n",
       "      <td>11</td>\n",
       "      <td>12</td>\n",
       "      <td>11_12</td>\n",
       "      <td>CONCLUSIONS</td>\n",
       "    </tr>\n",
       "    <tr>\n",
       "      <th>12</th>\n",
       "      <td>24854809</td>\n",
       "      <td>24854809_0_11</td>\n",
       "      <td>Emotional eating is associated with overeating...</td>\n",
       "      <td>0</td>\n",
       "      <td>11</td>\n",
       "      <td>0_11</td>\n",
       "      <td>BACKGROUND</td>\n",
       "    </tr>\n",
       "    <tr>\n",
       "      <th>13</th>\n",
       "      <td>24854809</td>\n",
       "      <td>24854809_1_11</td>\n",
       "      <td>Yet , empirical evidence for individual ( trai...</td>\n",
       "      <td>1</td>\n",
       "      <td>11</td>\n",
       "      <td>1_11</td>\n",
       "      <td>BACKGROUND</td>\n",
       "    </tr>\n",
       "    <tr>\n",
       "      <th>14</th>\n",
       "      <td>24854809</td>\n",
       "      <td>24854809_2_11</td>\n",
       "      <td>The aim of this study was to test if attention...</td>\n",
       "      <td>2</td>\n",
       "      <td>11</td>\n",
       "      <td>2_11</td>\n",
       "      <td>OBJECTIVE</td>\n",
       "    </tr>\n",
       "    <tr>\n",
       "      <th>15</th>\n",
       "      <td>24854809</td>\n",
       "      <td>24854809_3_11</td>\n",
       "      <td>It was expected that emotional eating is predi...</td>\n",
       "      <td>3</td>\n",
       "      <td>11</td>\n",
       "      <td>3_11</td>\n",
       "      <td>OBJECTIVE</td>\n",
       "    </tr>\n",
       "    <tr>\n",
       "      <th>16</th>\n",
       "      <td>24854809</td>\n",
       "      <td>24854809_4_11</td>\n",
       "      <td>Participants ( N = @ ) were randomly assigned ...</td>\n",
       "      <td>4</td>\n",
       "      <td>11</td>\n",
       "      <td>4_11</td>\n",
       "      <td>METHODS</td>\n",
       "    </tr>\n",
       "    <tr>\n",
       "      <th>17</th>\n",
       "      <td>24854809</td>\n",
       "      <td>24854809_5_11</td>\n",
       "      <td>Attentional biases for high caloric foods were...</td>\n",
       "      <td>5</td>\n",
       "      <td>11</td>\n",
       "      <td>5_11</td>\n",
       "      <td>METHODS</td>\n",
       "    </tr>\n",
       "    <tr>\n",
       "      <th>18</th>\n",
       "      <td>24854809</td>\n",
       "      <td>24854809_6_11</td>\n",
       "      <td>Self-reported emotional eating was assessed wi...</td>\n",
       "      <td>6</td>\n",
       "      <td>11</td>\n",
       "      <td>6_11</td>\n",
       "      <td>METHODS</td>\n",
       "    </tr>\n",
       "    <tr>\n",
       "      <th>19</th>\n",
       "      <td>24854809</td>\n",
       "      <td>24854809_7_11</td>\n",
       "      <td>Hierarchical multivariate regression modeling ...</td>\n",
       "      <td>7</td>\n",
       "      <td>11</td>\n",
       "      <td>7_11</td>\n",
       "      <td>RESULTS</td>\n",
       "    </tr>\n",
       "  </tbody>\n",
       "</table>\n",
       "</div>"
      ],
      "text/plain": [
       "    abstract_id         line_id  \\\n",
       "0      24293578   24293578_0_12   \n",
       "1      24293578   24293578_1_12   \n",
       "2      24293578   24293578_2_12   \n",
       "3      24293578   24293578_3_12   \n",
       "4      24293578   24293578_4_12   \n",
       "5      24293578   24293578_5_12   \n",
       "6      24293578   24293578_6_12   \n",
       "7      24293578   24293578_7_12   \n",
       "8      24293578   24293578_8_12   \n",
       "9      24293578   24293578_9_12   \n",
       "10     24293578  24293578_10_12   \n",
       "11     24293578  24293578_11_12   \n",
       "12     24854809   24854809_0_11   \n",
       "13     24854809   24854809_1_11   \n",
       "14     24854809   24854809_2_11   \n",
       "15     24854809   24854809_3_11   \n",
       "16     24854809   24854809_4_11   \n",
       "17     24854809   24854809_5_11   \n",
       "18     24854809   24854809_6_11   \n",
       "19     24854809   24854809_7_11   \n",
       "\n",
       "                                        abstract_text  line_number  \\\n",
       "0   To investigate the efficacy of @ weeks of dail...            0   \n",
       "1   A total of @ patients with primary knee OA wer...            1   \n",
       "2   Outcome measures included pain reduction and i...            2   \n",
       "3   Pain was assessed using the visual analog pain...            3   \n",
       "4   Secondary outcome measures included the Wester...            4   \n",
       "5   Serum levels of interleukin @ ( IL-@ ) , IL-@ ...            5   \n",
       "6   There was a clinically relevant reduction in t...            6   \n",
       "7   The mean difference between treatment arms ( @...            7   \n",
       "8   Further , there was a clinically relevant redu...            8   \n",
       "9   These differences remained significant at @ we...            9   \n",
       "10  The Outcome Measures in Rheumatology Clinical ...           10   \n",
       "11  Low-dose oral prednisolone had both a short-te...           11   \n",
       "12  Emotional eating is associated with overeating...            0   \n",
       "13  Yet , empirical evidence for individual ( trai...            1   \n",
       "14  The aim of this study was to test if attention...            2   \n",
       "15  It was expected that emotional eating is predi...            3   \n",
       "16  Participants ( N = @ ) were randomly assigned ...            4   \n",
       "17  Attentional biases for high caloric foods were...            5   \n",
       "18  Self-reported emotional eating was assessed wi...            6   \n",
       "19  Hierarchical multivariate regression modeling ...            7   \n",
       "\n",
       "    total_lines current_line       target  \n",
       "0            12         0_12    OBJECTIVE  \n",
       "1            12         1_12      METHODS  \n",
       "2            12         2_12      METHODS  \n",
       "3            12         3_12      METHODS  \n",
       "4            12         4_12      METHODS  \n",
       "5            12         5_12      METHODS  \n",
       "6            12         6_12      RESULTS  \n",
       "7            12         7_12      RESULTS  \n",
       "8            12         8_12      RESULTS  \n",
       "9            12         9_12      RESULTS  \n",
       "10           12        10_12      RESULTS  \n",
       "11           12        11_12  CONCLUSIONS  \n",
       "12           11         0_11   BACKGROUND  \n",
       "13           11         1_11   BACKGROUND  \n",
       "14           11         2_11    OBJECTIVE  \n",
       "15           11         3_11    OBJECTIVE  \n",
       "16           11         4_11      METHODS  \n",
       "17           11         5_11      METHODS  \n",
       "18           11         6_11      METHODS  \n",
       "19           11         7_11      RESULTS  "
      ]
     },
     "execution_count": 41,
     "metadata": {},
     "output_type": "execute_result"
    }
   ],
   "source": [
    "# View the first 20 samples in train_df\n",
    "train_df.head(20)"
   ]
  },
  {
   "cell_type": "code",
   "execution_count": 42,
   "id": "756630dd",
   "metadata": {},
   "outputs": [
    {
     "data": {
      "text/plain": [
       "target\n",
       "METHODS        59353\n",
       "RESULTS        57953\n",
       "CONCLUSIONS    27168\n",
       "BACKGROUND     21727\n",
       "OBJECTIVE      13839\n",
       "Name: count, dtype: int64"
      ]
     },
     "execution_count": 42,
     "metadata": {},
     "output_type": "execute_result"
    }
   ],
   "source": [
    "# Distribution of labels in training data\n",
    "train_df.target.value_counts()"
   ]
  },
  {
   "cell_type": "code",
   "execution_count": 45,
   "metadata": {},
   "outputs": [
    {
     "name": "stderr",
     "output_type": "stream",
     "text": [
      "/tmp/ipykernel_2376/1548999433.py:10: FutureWarning: \n",
      "\n",
      "Passing `palette` without assigning `hue` is deprecated and will be removed in v0.14.0. Assign the `y` variable to `hue` and set `legend=False` for the same effect.\n",
      "\n",
      "  bar_plot = sns.barplot(x=train_distribution.values,\n",
      "/tmp/ipykernel_2376/1548999433.py:21: FutureWarning: \n",
      "\n",
      "Passing `palette` without assigning `hue` is deprecated and will be removed in v0.14.0. Assign the `y` variable to `hue` and set `legend=False` for the same effect.\n",
      "\n",
      "  bar_plot = sns.barplot(x=val_distribution.values,\n",
      "/tmp/ipykernel_2376/1548999433.py:31: FutureWarning: \n",
      "\n",
      "Passing `palette` without assigning `hue` is deprecated and will be removed in v0.14.0. Assign the `y` variable to `hue` and set `legend=False` for the same effect.\n",
      "\n",
      "  bar_plot = sns.barplot(\n"
     ]
    },
    {
     "data": {
      "image/png": "[encoded data removed]",
      "text/plain": [
       "<Figure size 1600x1400 with 3 Axes>"
      ]
     },
     "metadata": {},
     "output_type": "display_data"
    }
   ],
   "source": [
    "fig, (ax1, ax2, ax3) = plt.subplots(3, figsize=(16, 14))\n",
    "\n",
    "# Set the spacing between subplots\n",
    "fig.tight_layout(pad=6.0)\n",
    "sns.despine();\n",
    "\n",
    "# Plot Train Labels Distribution\n",
    "ax1.set_title('Train Labels Distribution', fontsize=24)\n",
    "train_distribution = train_df['target'].value_counts().sort_values()\n",
    "bar_plot = sns.barplot(x=train_distribution.values,\n",
    "            y=list(train_distribution.keys()),\n",
    "            orient=\"h\", palette=sns.color_palette(\"winter\", 5),\n",
    "            ax=ax1);\n",
    "\n",
    "for container in bar_plot.containers:\n",
    "    bar_plot.bar_label(container, fmt='%.0f', fontsize=14);\n",
    "\n",
    "# Plot Validation Labels Distribution\n",
    "ax2.set_title('Validation Labels Distribution', fontsize=24)\n",
    "val_distribution = val_df['target'].value_counts().sort_values()\n",
    "bar_plot = sns.barplot(x=val_distribution.values,\n",
    "            y=list(val_distribution.keys()),\n",
    "            orient=\"h\", palette=sns.color_palette(\"winter\", 5),\n",
    "            ax=ax2);\n",
    "for container in bar_plot.containers:\n",
    "    bar_plot.bar_label(container, fmt='%.0f', fontsize=14);\n",
    "\n",
    "# Plot Test Labels Distribution\n",
    "ax3.set_title('Test Labels Distribution', fontsize=24)\n",
    "test_distribution = test_df['target'].value_counts().sort_values()\n",
    "bar_plot = sns.barplot(\n",
    "    x=test_distribution.values,\n",
    "    y=list(test_distribution.keys()),\n",
    "    orient=\"h\", palette=sns.color_palette(\"winter\", 5),\n",
    "    ax=ax3);\n",
    "\n",
    "for container in bar_plot.containers:\n",
    "    bar_plot.bar_label(container, fmt='%.0f', fontsize=14);"
   ]
  },
  {
   "cell_type": "code",
   "execution_count": 46,
   "metadata": {},
   "outputs": [
    {
     "name": "stdout",
     "output_type": "stream",
     "text": [
      "Train samples count:\t\t180040\n",
      "Dev/Validation sample count:\t30212\n",
      "Test sample count:\t\t30135\n",
      "Total samples:\t\t\t240387\n"
     ]
    }
   ],
   "source": [
    "# Convert abstract text lines into lists\n",
    "train_sentences = train_df[\"abstract_text\"].tolist()\n",
    "val_sentences = val_df[\"abstract_text\"].tolist()\n",
    "test_sentences = test_df[\"abstract_text\"].tolist()\n",
    "# %%\n",
    "train_sentences_count = len(train_sentences)\n",
    "val_sentences_count = len(val_sentences)\n",
    "test_sentences_count = len(test_sentences)\n",
    "total_sentences_count = train_sentences_count + val_sentences_count + test_sentences_count\n",
    "\n",
    "print(f'Train samples count:\\t\\t{train_sentences_count}')\n",
    "print(f'Dev/Validation sample count:\\t{val_sentences_count}')\n",
    "print(f'Test sample count:\\t\\t{test_sentences_count}')\n",
    "print(f'Total samples:\\t\\t\\t{total_sentences_count}')"
   ]
  },
  {
   "cell_type": "code",
   "execution_count": 47,
   "metadata": {},
   "outputs": [
    {
     "data": {
      "text/plain": [
       "['To investigate the efficacy of @ weeks of daily low-dose oral prednisolone in improving pain , mobility , and systemic low-grade inflammation in the short term and whether the effect would be sustained at @ weeks in older adults with moderate to severe knee osteoarthritis ( OA ) .',\n",
       " 'A total of @ patients with primary knee OA were randomized @:@ ; @ received @ mg/day of prednisolone and @ received placebo for @ weeks .',\n",
       " 'Outcome measures included pain reduction and improvement in function scores and systemic inflammation markers .',\n",
       " 'Pain was assessed using the visual analog pain scale ( @-@ mm ) .',\n",
       " 'Secondary outcome measures included the Western Ontario and McMaster Universities Osteoarthritis Index scores , patient global assessment ( PGA ) of the severity of knee OA , and @-min walk distance ( @MWD ) .']"
      ]
     },
     "execution_count": 47,
     "metadata": {},
     "output_type": "execute_result"
    }
   ],
   "source": [
    "# View first 5 lines of train sentences\n",
    "train_sentences[:5]"
   ]
  },
  {
   "cell_type": "code",
   "execution_count": 48,
   "metadata": {},
   "outputs": [],
   "source": [
    "one_hot_encoder = OneHotEncoder(sparse_output=False)\n",
    "# %%\n",
    "train_labels_one_hot = one_hot_encoder.fit_transform(train_df[\"target\"].to_numpy().reshape(-1, 1))\n",
    "val_labels_one_hot = one_hot_encoder.transform(val_df[\"target\"].to_numpy().reshape(-1, 1))\n",
    "test_labels_one_hot = one_hot_encoder.transform(test_df[\"target\"].to_numpy().reshape(-1, 1))"
   ]
  },
  {
   "cell_type": "code",
   "execution_count": 49,
   "metadata": {},
   "outputs": [
    {
     "data": {
      "text/plain": [
       "'OBJECTIVE'"
      ]
     },
     "execution_count": 49,
     "metadata": {},
     "output_type": "execute_result"
    }
   ],
   "source": [
    "train_df[\"target\"][0]"
   ]
  },
  {
   "cell_type": "code",
   "execution_count": 50,
   "metadata": {},
   "outputs": [
    {
     "data": {
      "text/plain": [
       "array([[0., 0., 0., 1., 0.],\n",
       "       [0., 0., 1., 0., 0.],\n",
       "       [0., 0., 1., 0., 0.],\n",
       "       ...,\n",
       "       [0., 0., 0., 0., 1.],\n",
       "       [0., 1., 0., 0., 0.],\n",
       "       [0., 1., 0., 0., 0.]])"
      ]
     },
     "execution_count": 50,
     "metadata": {},
     "output_type": "execute_result"
    }
   ],
   "source": [
    "# inspect one hot encoded targets\n",
    "train_labels_one_hot"
   ]
  },
  {
   "cell_type": "code",
   "execution_count": 51,
   "metadata": {},
   "outputs": [],
   "source": [
    "label_encoder = LabelEncoder()\n",
    "# %%\n",
    "train_labels_encoded = label_encoder.fit_transform(train_df[\"target\"].to_numpy())\n",
    "val_labels_encoded = label_encoder.transform(val_df[\"target\"].to_numpy())\n",
    "test_labels_encoded = label_encoder.transform(test_df[\"target\"].to_numpy())"
   ]
  },
  {
   "cell_type": "code",
   "execution_count": 52,
   "id": "22a1f95c",
   "metadata": {},
   "outputs": [
    {
     "data": {
      "text/plain": [
       "array([3, 2, 2, ..., 4, 1, 1])"
      ]
     },
     "execution_count": 52,
     "metadata": {},
     "output_type": "execute_result"
    }
   ],
   "source": [
    "train_labels_encoded"
   ]
  },
  {
   "cell_type": "code",
   "execution_count": 53,
   "id": "d90af4c1",
   "metadata": {},
   "outputs": [
    {
     "name": "stdout",
     "output_type": "stream",
     "text": [
      "Number of classes: 5\n",
      "Classes: ['BACKGROUND' 'CONCLUSIONS' 'METHODS' 'OBJECTIVE' 'RESULTS']\n"
     ]
    }
   ],
   "source": [
    "# Get class names and number of classes from label_encoder\n",
    "num_classes = len(label_encoder.classes_)\n",
    "class_names = label_encoder.classes_\n",
    "\n",
    "print(f'Number of classes: {num_classes}')\n",
    "print(f'Classes: {class_names}')"
   ]
  },
  {
   "cell_type": "code",
   "execution_count": 54,
   "metadata": {},
   "outputs": [
    {
     "data": {
      "text/plain": [
       "(30135, 460)"
      ]
     },
     "execution_count": 54,
     "metadata": {},
     "output_type": "execute_result"
    }
   ],
   "source": [
    "line_one_hot_encoder = OneHotEncoder(sparse_output=False)\n",
    "# %%\n",
    "\n",
    "train_lines_encoded = line_one_hot_encoder.fit_transform(train_df[\"current_line\"].to_numpy().reshape(-1, 1)).astype(np.float32)\n",
    "val_lines_encoded = line_one_hot_encoder.transform(val_df[\"current_line\"].to_numpy().reshape(-1, 1)).astype(np.float32)\n",
    "test_lines_encoded = line_one_hot_encoder.transform(test_df[\"current_line\"].to_numpy().reshape(-1, 1)).astype(np.float32)\n",
    "# %%\n",
    "test_lines_encoded.shape"
   ]
  },
  {
   "cell_type": "code",
   "execution_count": 55,
   "metadata": {},
   "outputs": [],
   "source": [
    "def apply_smoothing(line_one_hot, esp=0.01):\n",
    "    return np.abs(line_one_hot - esp)"
   ]
  },
  {
   "cell_type": "code",
   "execution_count": 56,
   "metadata": {},
   "outputs": [],
   "source": [
    "def revert_smoothing(line_one_hot_smooth, esp=0.01):\n",
    "    unsmooth = line_one_hot_smooth\n",
    "\n",
    "    unsmooth[unsmooth>esp] = 1.0\n",
    "    unsmooth[unsmooth<=esp] = 0.0\n",
    "\n",
    "    return unsmooth"
   ]
  },
  {
   "cell_type": "code",
   "execution_count": 57,
   "metadata": {},
   "outputs": [],
   "source": [
    "# Only apply smoothing to train lines feature\n",
    "train_lines_encoded = apply_smoothing(train_lines_encoded)"
   ]
  },
  {
   "cell_type": "code",
   "execution_count": 58,
   "metadata": {},
   "outputs": [],
   "source": [
    "def create_pipeline(features, labels, batch_size=32, shuffle=False, cache=False, prefetch=False) -> tf.data.Dataset:\n",
    "    '''\n",
    "    Generates an input pipeline using the tf.data API for training and inference.\n",
    "\n",
    "    @params\n",
    "        - features: (tuple) -> tuple containing the feature data\n",
    "        - labels: (tf.Tensor | np.ndarray, default=None) -> target data related to the feature data\n",
    "        - batch_size: (int) -> size for batched (default=32)\n",
    "        - shuffle: (bool) -> condition for data shuffling, data is shuffled when True (default=False)\n",
    "        - cache: (bool) -> condition for caching data, data is cached in memory when True (default=False)\n",
    "        - prefetch: (bool) -> condition for prefeching data, data is prefetched when True (default=False)\n",
    "\n",
    "    @returns\n",
    "        - dataset: (tf.data.Dataset) -> dataset input pipeline used to train a TensorFlow model\n",
    "    '''\n",
    "\n",
    "    AUTOTUNE = tf.data.AUTOTUNE\n",
    "\n",
    "    # Create dataset with features and labels\n",
    "    ds = tf.data.Dataset.from_tensor_slices((features, labels))\n",
    "\n",
    "    # Apply shuffling based on condition\n",
    "    if shuffle:\n",
    "        ds = ds.shuffle(buffer_size=1000)\n",
    "\n",
    "    # Apply batching\n",
    "    ds = ds.batch(batch_size)\n",
    "\n",
    "    # Apply caching based on condition\n",
    "    # Note: Do this if the data is small enough to fit in memory!!!\n",
    "    if cache:\n",
    "        ds = ds.cache(buffer_size=AUTOTUNE)\n",
    "\n",
    "    # Apply prefetching based on condition\n",
    "    # Note: This will result in memory trade-offs\n",
    "    if prefetch:\n",
    "        ds = ds.prefetch(buffer_size=AUTOTUNE)\n",
    "\n",
    "    # Return the dataset\n",
    "    return ds"
   ]
  },
  {
   "cell_type": "code",
   "execution_count": 59,
   "metadata": {},
   "outputs": [
    {
     "name": "stderr",
     "output_type": "stream",
     "text": [
      "2025-05-27 03:01:47.708187: E external/local_xla/xla/stream_executor/cuda/cuda_platform.cc:51] failed call to cuInit: INTERNAL: CUDA error: Failed call to cuInit: UNKNOWN ERROR (303)\n",
      "2025-05-27 03:01:47.856194: W external/local_xla/xla/tsl/framework/cpu_allocator_impl.cc:83] Allocation of 331273600 exceeds 10% of free system memory.\n",
      "2025-05-27 03:01:48.107307: W external/local_xla/xla/tsl/framework/cpu_allocator_impl.cc:83] Allocation of 55590080 exceeds 10% of free system memory.\n",
      "2025-05-27 03:01:48.266080: W external/local_xla/xla/tsl/framework/cpu_allocator_impl.cc:83] Allocation of 55448400 exceeds 10% of free system memory.\n"
     ]
    }
   ],
   "source": [
    "BATCH_SIZE = 32\n",
    "\n",
    "# Create preprocessed training dataset\n",
    "train_features = (train_sentences, train_lines_encoded.astype(np.float32))\n",
    "train_labels = train_labels_one_hot.astype(np.float32)\n",
    "\n",
    "# Create preprocessed train input data pipeline\n",
    "train_ds = create_pipeline(\n",
    "    train_features, train_labels,\n",
    "    batch_size=BATCH_SIZE, shuffle=True,\n",
    "    cache=False, prefetch=True)\n",
    "# %%\n",
    "# Create preprocessed validation dataset\n",
    "val_features = (val_sentences, val_lines_encoded.astype(np.float32))\n",
    "val_labels = val_labels_one_hot.astype(np.float32)\n",
    "\n",
    "# Create preprocessed validation input data pipeline\n",
    "val_ds = create_pipeline(val_features, val_labels,\n",
    "                         batch_size=BATCH_SIZE, shuffle=False,\n",
    "                         cache=False, prefetch=True)\n",
    "# %%\n",
    "# Create preprocessed test dataset\n",
    "test_features = (test_sentences, test_lines_encoded.astype(np.float32))\n",
    "test_labels = test_labels_one_hot.astype(np.float32)\n",
    "\n",
    "# Create preprocessed test input data pipeline\n",
    "test_ds = create_pipeline(test_features, test_labels,\n",
    "                          batch_size=BATCH_SIZE, shuffle=False,\n",
    "                          cache=False, prefetch=True)"
   ]
  },
  {
   "cell_type": "code",
   "execution_count": 60,
   "metadata": {},
   "outputs": [
    {
     "name": "stdout",
     "output_type": "stream",
     "text": [
      "========================================\n",
      "Train Input Data Pipeline:\n",
      "\n",
      " <_PrefetchDataset element_spec=((TensorSpec(shape=(None,), dtype=tf.string, name=None), TensorSpec(shape=(None, 460), dtype=tf.float32, name=None)), TensorSpec(shape=(None, 5), dtype=tf.float32, name=None))>\n",
      "========================================\n",
      "Validation Input Data Pipeline:\n",
      "\n",
      " <_PrefetchDataset element_spec=((TensorSpec(shape=(None,), dtype=tf.string, name=None), TensorSpec(shape=(None, 460), dtype=tf.float32, name=None)), TensorSpec(shape=(None, 5), dtype=tf.float32, name=None))>\n",
      "========================================\n",
      "Test Input Data Pipeline:\n",
      "\n",
      " <_PrefetchDataset element_spec=((TensorSpec(shape=(None,), dtype=tf.string, name=None), TensorSpec(shape=(None, 460), dtype=tf.float32, name=None)), TensorSpec(shape=(None, 5), dtype=tf.float32, name=None))>\n",
      "========================================\n"
     ]
    }
   ],
   "source": [
    "# View string representation of datasets\n",
    "print('========================================')\n",
    "print('Train Input Data Pipeline:\\n\\n', train_ds)\n",
    "print('========================================')\n",
    "print('Validation Input Data Pipeline:\\n\\n', val_ds)\n",
    "print('========================================')\n",
    "print('Test Input Data Pipeline:\\n\\n', test_ds)\n",
    "print('========================================')"
   ]
  },
  {
   "cell_type": "code",
   "execution_count": 61,
   "metadata": {},
   "outputs": [],
   "source": [
    "# When using tensorflow_text, uncomment the line below to import the module\n",
    "# import tensorflow_text as text\n",
    "\n",
    "# Here's a function to get any model/preprocessor from tensorflow hub\n",
    "def get_tfhub_model(model_link, model_name, model_trainable=False):\n",
    "    return hub.KerasLayer(model_link,\n",
    "                          trainable=model_trainable,\n",
    "                          name=model_name)"
   ]
  },
  {
   "cell_type": "code",
   "execution_count": 62,
   "metadata": {},
   "outputs": [],
   "source": [
    "# get Universal Sentence Encoder here\n",
    "encoder_link = 'https://tfhub.dev/google/universal-sentence-encoder/4'\n",
    "encoder_name = 'universal_sentence_encoder'\n",
    "encoder_trainable=False # set trainable to False for inference-only\n",
    "\n",
    "encoder = get_tfhub_model(encoder_link, encoder_name, model_trainable=encoder_trainable)"
   ]
  },
  {
   "cell_type": "code",
   "execution_count": 63,
   "metadata": {},
   "outputs": [],
   "source": [
    "class SelfAttentionBlock(layers.Layer):\n",
    "\n",
    "    def __init__(self, units: int, activation='gelu', kernel_initializer='GlorotNormal', **kwargs):\n",
    "        super(SelfAttentionBlock, self).__init__(**kwargs)\n",
    "        self.units = units\n",
    "        self.activation = activation\n",
    "        self.kernel_initializer = tf.keras.initializers.deserialize(kernel_initializer)\n",
    "\n",
    "        self.query = layers.LSTM(self.units, activation=self.activation,\n",
    "                                 kernel_initializer=self.kernel_initializer,\n",
    "                                 return_sequences=True, name=f'block_query_lstm')\n",
    "\n",
    "        self.value = layers.LSTM(self.units, activation=self.activation,\n",
    "                                 kernel_initializer=self.kernel_initializer, go_backwards=True,\n",
    "                                 return_sequences=True, name=f'block_value_lstm')\n",
    "\n",
    "        self.attention = layers.AdditiveAttention(name='block_attention')\n",
    "        self.average_pooler = layers.GlobalAveragePooling1D(name='block_average_pooler')\n",
    "        self.query_batch_norm = layers.BatchNormalization(name='block_query_batch_norm')\n",
    "        self.attention_batch_norm = layers.BatchNormalization(name='block_attention_batch_norm')\n",
    "        self.residual = layers.Add(name='block_residual')\n",
    "\n",
    "\n",
    "    def __call__(self, x):\n",
    "        # Expand dimensions for LSTMs\n",
    "        dim_expand_layer = layers.Lambda(lambda embedding: tf.expand_dims(embedding, axis=1), name='block_dim_expand')\n",
    "        x_expanded = dim_expand_layer(x)\n",
    "\n",
    "        # Generate LSTM sequences\n",
    "        block_query = self.query(x_expanded)\n",
    "        block_value = self.value(x_expanded)\n",
    "\n",
    "        # Apply self-attention to LSTM\n",
    "        block_attention = self.attention([block_query, block_value])\n",
    "\n",
    "        # Apply GlobalAvgPooling and BatchNorm to ensure output shape is 1D\n",
    "        block_query_pooling = self.average_pooler(block_query)\n",
    "        block_query_batch_norm = self.query_batch_norm(block_query_pooling)\n",
    "\n",
    "        block_attention_pooling = self.average_pooler(block_attention)\n",
    "        block_attention_batch_norm = self.attention_batch_norm(block_attention_pooling)\n",
    "\n",
    "        # Generate addition residual with processed query and attention\n",
    "        block_residual = self.residual([block_query_batch_norm, block_attention_batch_norm])\n",
    "\n",
    "        return block_residual"
   ]
  },
  {
   "cell_type": "code",
   "execution_count": 64,
   "metadata": {},
   "outputs": [],
   "source": [
    "from tensorflow import keras\n",
    "\n",
    "# %%\n",
    "def build_model():\n",
    "    # Model Inputs\n",
    "    #------------\n",
    "    abstract_input = layers.Input(shape=[], dtype=tf.string, name='abstract_text_input')\n",
    "    # Ensure the shape is passed as a tuple\n",
    "    abstract_current_line = layers.Input(shape=(460,), dtype=tf.float32, name='abstract_current_line')\n",
    "\n",
    "    # Define Layer Initializer\n",
    "    #------------\n",
    "    initializer = tf.keras.initializers.GlorotNormal()\n",
    "\n",
    "    # Text Embedding\n",
    "    #------------\n",
    "    # Wrap the encoder call in a Lambda layer to handle the KerasTensor input\n",
    "    abstract_embedding = layers.Lambda(lambda x: encoder(x), output_shape=(512,), name='abstract_embedding')(abstract_input) # Assuming USE outputs a 512-dim vector\n",
    "\n",
    "    # Self Attention Block Stream\n",
    "    #------------\n",
    "    # The SelfAttentionBlock expects an embedding input, which is now a KerasTensor\n",
    "    # resulting from the encoder. This should work as long as SelfAttentionBlock\n",
    "    # is implemented using Keras layers and operations.\n",
    "    add_attention_block = SelfAttentionBlock(64)(abstract_embedding)\n",
    "    abstract_dense = layers.Dense(64, activation='gelu', kernel_initializer=initializer)(abstract_embedding)\n",
    "    attention_residual = layers.Multiply(name='mul_residual')([add_attention_block, abstract_dense])\n",
    "\n",
    "    # Current Line Stream\n",
    "    #------------\n",
    "    current_line_dense = layers.Dense(32, activation='gelu', kernel_initializer=initializer)(abstract_current_line)\n",
    "    current_line_dense = layers.Dropout(0.2)(current_line_dense)\n",
    "\n",
    "    # Concat Streams\n",
    "    #------------\n",
    "    streams_concat = layers.Concatenate()([\n",
    "        attention_residual,\n",
    "        current_line_dense\n",
    "    ])\n",
    "\n",
    "    # Output Layer\n",
    "    #------------\n",
    "    output_layer = layers.Dense(64, activation='gelu', kernel_initializer=initializer)(streams_concat)\n",
    "    output_layer = layers.Dense(5, activation='softmax', kernel_initializer=initializer)(output_layer)\n",
    "\n",
    "    return tf.keras.Model(inputs=[abstract_input,\n",
    "                                  abstract_current_line],\n",
    "                          outputs=[output_layer], name=\"use_attention_model\")"
   ]
  },
  {
   "cell_type": "code",
   "execution_count": 65,
   "metadata": {},
   "outputs": [],
   "source": [
    "# Build model\n",
    "model = build_model()"
   ]
  },
  {
   "cell_type": "code",
   "execution_count": 70,
   "id": "5402a92b",
   "metadata": {},
   "outputs": [
    {
     "name": "stdout",
     "output_type": "stream",
     "text": [
      "Requirement already satisfied: pydot in /usr/local/python/3.12.1/lib/python3.12/site-packages (4.0.0)\n",
      "Requirement already satisfied: pyparsing>=3.0.9 in /home/codespace/.local/lib/python3.12/site-packages (from pydot) (3.2.1)\n",
      "\n",
      "\u001b[1m[\u001b[0m\u001b[34;49mnotice\u001b[0m\u001b[1;39;49m]\u001b[0m\u001b[39;49m A new release of pip is available: \u001b[0m\u001b[31;49m25.0.1\u001b[0m\u001b[39;49m -> \u001b[0m\u001b[32;49m25.1.1\u001b[0m\n",
      "\u001b[1m[\u001b[0m\u001b[34;49mnotice\u001b[0m\u001b[1;39;49m]\u001b[0m\u001b[39;49m To update, run: \u001b[0m\u001b[32;49mpython3 -m pip install --upgrade pip\u001b[0m\n"
     ]
    }
   ],
   "source": [
    "!pip install pydot"
   ]
  },
  {
   "cell_type": "code",
   "execution_count": 71,
   "metadata": {},
   "outputs": [
    {
     "name": "stdout",
     "output_type": "stream",
     "text": [
      "You must install pydot (`pip install pydot`) for `plot_model` to work.\n"
     ]
    }
   ],
   "source": [
    "# Explore model visually\n",
    "plot_model(\n",
    "    model,\n",
    "    show_shapes=True,\n",
    "    expand_nested=True\n",
    ")"
   ]
  },
  {
   "cell_type": "code",
   "execution_count": 72,
   "metadata": {},
   "outputs": [],
   "source": [
    "from tensorflow import keras\n",
    "import tensorflow as tf # Ensure tensorflow is imported\n",
    "import tensorflow_hub as hub # Ensure tensorflow_hub is imported\n",
    "\n",
    "# When using tensorflow_text, uncomment the line below to import the module\n",
    "# import tensorflow_text as text\n",
    "\n",
    "# Here's a function to get any model/preprocessor from tensorflow hub\n",
    "def get_tfhub_model(model_link, model_name, model_trainable=False):\n",
    "    return hub.KerasLayer(model_link,\n",
    "                          trainable=model_trainable,\n",
    "                          name=model_name)\n",
    "\n",
    "# get Universal Sentence Encoder here\n",
    "encoder_link = 'https://tfhub.dev/google/universal-sentence-encoder/4'\n",
    "encoder_name = 'universal_sentence_encoder'\n",
    "encoder_trainable=False # set trainable to False for inference-only\n",
    "\n",
    "encoder = get_tfhub_model(encoder_link, encoder_name, model_trainable=encoder_trainable)\n",
    "\n",
    "class SelfAttentionBlock(layers.Layer):\n",
    "\n",
    "    def __init__(self, units: int, activation='gelu', kernel_initializer='GlorotNormal', **kwargs):\n",
    "        super(SelfAttentionBlock, self).__init__(**kwargs)\n",
    "        self.units = units\n",
    "        self.activation = activation\n",
    "        self.kernel_initializer = tf.keras.initializers.deserialize(kernel_initializer)\n",
    "\n",
    "        self.query = layers.LSTM(self.units, activation=self.activation,\n",
    "                                 kernel_initializer=self.kernel_initializer,\n",
    "                                 return_sequences=True, name=f'block_query_lstm')\n",
    "\n",
    "        self.value = layers.LSTM(self.units, activation=self.activation,\n",
    "                                 kernel_initializer=self.kernel_initializer, go_backwards=True,\n",
    "                                 return_sequences=True, name=f'block_value_lstm')\n",
    "\n",
    "        self.attention = layers.AdditiveAttention(name='block_attention')\n",
    "        self.average_pooler = layers.GlobalAveragePooling1D(name='block_average_pooler')\n",
    "        self.query_batch_norm = layers.BatchNormalization(name='block_query_batch_norm')\n",
    "        self.attention_batch_norm = layers.BatchNormalization(name='block_attention_batch_norm')\n",
    "        self.residual = layers.Add(name='block_residual')\n",
    "\n",
    "\n",
    "    def __call__(self, x):\n",
    "        # Expand dimensions for LSTMs\n",
    "        dim_expand_layer = layers.Lambda(lambda embedding: tf.expand_dims(embedding, axis=1), name='block_dim_expand')\n",
    "        x_expanded = dim_expand_layer(x)\n",
    "\n",
    "        # Generate LSTM sequences\n",
    "        block_query = self.query(x_expanded)\n",
    "        block_value = self.value(x_expanded)\n",
    "\n",
    "        # Apply self-attention to LSTM\n",
    "        block_attention = self.attention([block_query, block_value])\n",
    "\n",
    "        # Apply GlobalAvgPooling and BatchNorm to ensure output shape is 1D\n",
    "        block_query_pooling = self.average_pooler(block_query)\n",
    "        block_query_batch_norm = self.query_batch_norm(block_query_pooling)\n",
    "\n",
    "        block_attention_pooling = self.average_pooler(block_attention)\n",
    "        block_attention_batch_norm = self.attention_batch_norm(block_attention_pooling)\n",
    "\n",
    "        # Generate addition residual with processed query and attention\n",
    "        block_residual = self.residual([block_query_batch_norm, block_attention_batch_norm])\n",
    "\n",
    "        return block_residual\n",
    "\n",
    "\n",
    "def build_model():\n",
    "    # Model Inputs\n",
    "    #------------\n",
    "    abstract_input = layers.Input(shape=[], dtype=tf.string, name='abstract_text_input')\n",
    "    # Ensure the shape is passed as a tuple\n",
    "    abstract_current_line = layers.Input(shape=(460,), dtype=tf.float32, name='abstract_current_line')\n",
    "\n",
    "    # Define Layer Initializer\n",
    "    #------------\n",
    "    initializer = tf.keras.initializers.GlorotNormal()\n",
    "\n",
    "    # Text Embedding - Process on CPU\n",
    "    #------------\n",
    "    # Wrap the encoder call in a Lambda layer and explicitly place it on CPU\n",
    "    # to avoid XLA issues with string inputs on GPU.\n",
    "    with tf.device('/cpu:0'):\n",
    "        abstract_embedding = layers.Lambda(lambda x: encoder(x), output_shape=(512,), name='abstract_embedding')(abstract_input)\n",
    "\n",
    "    # Self Attention Block Stream - Process subsequent layers on GPU if available\n",
    "    #------------\n",
    "    # The SelfAttentionBlock expects an embedding input, which is now a KerasTensor\n",
    "    # resulting from the encoder. This should work as long as SelfAttentionBlock\n",
    "    # is implemented using Keras layers and operations.\n",
    "    # Note: The embedding tensor will be on the CPU if the device context was applied.\n",
    "    # Subsequent layers can then potentially be moved to GPU for computation by TensorFlow.\n",
    "    add_attention_block = SelfAttentionBlock(64)(abstract_embedding)\n",
    "    abstract_dense = layers.Dense(64, activation='gelu', kernel_initializer=initializer)(abstract_embedding)\n",
    "    attention_residual = layers.Multiply(name='mul_residual')([add_attention_block, abstract_dense])\n",
    "\n",
    "    # Current Line Stream\n",
    "    #------------\n",
    "    current_line_dense = layers.Dense(32, activation='gelu', kernel_initializer=initializer)(abstract_current_line)\n",
    "    current_line_dense = layers.Dropout(0.2)(current_line_dense)\n",
    "\n",
    "    # Concat Streams\n",
    "    #------------\n",
    "    streams_concat = layers.Concatenate()([\n",
    "        attention_residual,\n",
    "        current_line_dense\n",
    "    ])\n",
    "\n",
    "    # Output Layer\n",
    "    #------------\n",
    "    output_layer = layers.Dense(64, activation='gelu', kernel_initializer=initializer)(streams_concat)\n",
    "    output_layer = layers.Dense(5, activation='softmax', kernel_initializer=initializer)(output_layer)\n",
    "\n",
    "    return tf.keras.Model(inputs=[abstract_input,\n",
    "                                  abstract_current_line],\n",
    "                          outputs=[output_layer], name=\"use_attention_model\")"
   ]
  },
  {
   "cell_type": "code",
   "execution_count": 73,
   "metadata": {},
   "outputs": [],
   "source": [
    "def train_model(model, num_epochs, callbacks_list, tf_train_data,\n",
    "                tf_valid_data=None, shuffling=False):\n",
    "    '''\n",
    "        Trains a TensorFlow model and returns a dict object containing the model metrics history data.\n",
    "\n",
    "        @params\n",
    "        - model: (tf.keras.model) -> model to be trained\n",
    "        - num_epochs: (int) -> number of epochs to train the model\n",
    "        - callbacks_list: (list) -> list containing callback fuctions for model\n",
    "        - tf_train_data: (tf.data.Dataset) -> dataset for model to be train on\n",
    "        - tf_valid_data: (tf.data.Dataset) -> dataset for model to be validated on (default=None)\n",
    "        - shuffling: (bool) -> condition for data shuffling, data is shuffled when True (default=False)\n",
    "\n",
    "        @returns\n",
    "        - model_history: (dict) -> dictionary containing loss and metrics values tracked during training\n",
    "    '''\n",
    "\n",
    "    model_history = {}\n",
    "\n",
    "    if tf_valid_data != None:\n",
    "        model_history = model.fit(tf_train_data,\n",
    "                                  epochs=num_epochs,\n",
    "                                  validation_data=tf_valid_data,\n",
    "                                  validation_steps=int(len(tf_valid_data)),\n",
    "                                  callbacks=callbacks_list,\n",
    "                                  shuffle=shuffling)\n",
    "\n",
    "    if tf_valid_data == None:\n",
    "        model_history = model.fit(tf_train_data,\n",
    "                                  epochs=num_epochs,\n",
    "                                  callbacks=callbacks_list,\n",
    "                                  shuffle=shuffling)\n",
    "    return model_history"
   ]
  },
  {
   "cell_type": "code",
   "execution_count": 74,
   "metadata": {},
   "outputs": [],
   "source": [
    "early_stopping_callback = tf.keras.callbacks.EarlyStopping(\n",
    "    monitor='val_loss',\n",
    "    patience=4,\n",
    "    restore_best_weights=True)\n",
    "\n",
    "reduce_lr_callback = tf.keras.callbacks.ReduceLROnPlateau(\n",
    "    monitor='val_loss',\n",
    "    patience=2,\n",
    "    factor=0.1,\n",
    "    verbose=1)\n",
    "\n",
    "EPOCHS = 10\n",
    "CALLBACKS = [early_stopping_callback, reduce_lr_callback]\n",
    "METRICS = ['accuracy']"
   ]
  },
  {
   "cell_type": "code",
   "execution_count": 75,
   "id": "f055738e",
   "metadata": {},
   "outputs": [
    {
     "name": "stdout",
     "output_type": "stream",
     "text": [
      "Training use_attention_model.\n",
      "Train on 180040 samples, validate on 30212 samples.\n",
      "----------------------------------\n",
      "Epoch 1/10\n"
     ]
    },
    {
     "name": "stderr",
     "output_type": "stream",
     "text": [
      "2025-05-27 03:09:52.205420: W external/local_xla/xla/tsl/framework/cpu_allocator_impl.cc:83] Allocation of 331273600 exceeds 10% of free system memory.\n",
      "/usr/local/python/3.12.1/lib/python3.12/site-packages/keras/src/ops/nn.py:944: UserWarning: You are using a softmax over axis -1 of a tensor of shape (None, 1, 1). This axis has size 1. The softmax operation will always return the value 1, which is likely not what you intended. Did you mean to use a sigmoid instead?\n",
      "  warnings.warn(\n"
     ]
    },
    {
     "name": "stdout",
     "output_type": "stream",
     "text": [
      "\u001b[1m5623/5627\u001b[0m \u001b[32m━━━━━━━━━━━━━━━━━━━\u001b[0m\u001b[37m━\u001b[0m \u001b[1m0s\u001b[0m 7ms/step - accuracy: 0.7933 - loss: 0.7963"
     ]
    },
    {
     "name": "stderr",
     "output_type": "stream",
     "text": [
      "2025-05-27 03:10:36.005522: W external/local_xla/xla/tsl/framework/cpu_allocator_impl.cc:83] Allocation of 55590080 exceeds 10% of free system memory.\n"
     ]
    },
    {
     "name": "stdout",
     "output_type": "stream",
     "text": [
      "\u001b[1m5627/5627\u001b[0m \u001b[32m━━━━━━━━━━━━━━━━━━━━\u001b[0m\u001b[37m\u001b[0m \u001b[1m49s\u001b[0m 7ms/step - accuracy: 0.7934 - loss: 0.7962 - val_accuracy: 0.8717 - val_loss: 0.6506 - learning_rate: 0.0010\n",
      "Epoch 2/10\n",
      "\u001b[1m5627/5627\u001b[0m \u001b[32m━━━━━━━━━━━━━━━━━━━━\u001b[0m\u001b[37m\u001b[0m \u001b[1m41s\u001b[0m 7ms/step - accuracy: 0.8717 - loss: 0.6460 - val_accuracy: 0.8738 - val_loss: 0.6414 - learning_rate: 0.0010\n",
      "Epoch 3/10\n",
      "\u001b[1m5627/5627\u001b[0m \u001b[32m━━━━━━━━━━━━━━━━━━━━\u001b[0m\u001b[37m\u001b[0m \u001b[1m41s\u001b[0m 7ms/step - accuracy: 0.8818 - loss: 0.6261 - val_accuracy: 0.8724 - val_loss: 0.6434 - learning_rate: 0.0010\n",
      "Epoch 4/10\n",
      "\u001b[1m5620/5627\u001b[0m \u001b[32m━━━━━━━━━━━━━━━━━━━\u001b[0m\u001b[37m━\u001b[0m \u001b[1m0s\u001b[0m 7ms/step - accuracy: 0.8891 - loss: 0.6124\n",
      "Epoch 4: ReduceLROnPlateau reducing learning rate to 0.00010000000474974513.\n",
      "\u001b[1m5627/5627\u001b[0m \u001b[32m━━━━━━━━━━━━━━━━━━━━\u001b[0m\u001b[37m\u001b[0m \u001b[1m42s\u001b[0m 7ms/step - accuracy: 0.8891 - loss: 0.6124 - val_accuracy: 0.8734 - val_loss: 0.6421 - learning_rate: 0.0010\n",
      "Epoch 5/10\n",
      "\u001b[1m5627/5627\u001b[0m \u001b[32m━━━━━━━━━━━━━━━━━━━━\u001b[0m\u001b[37m\u001b[0m \u001b[1m42s\u001b[0m 7ms/step - accuracy: 0.8973 - loss: 0.5959 - val_accuracy: 0.8743 - val_loss: 0.6387 - learning_rate: 1.0000e-04\n",
      "Epoch 6/10\n",
      "\u001b[1m5627/5627\u001b[0m \u001b[32m━━━━━━━━━━━━━━━━━━━━\u001b[0m\u001b[37m\u001b[0m \u001b[1m41s\u001b[0m 7ms/step - accuracy: 0.9016 - loss: 0.5889 - val_accuracy: 0.8748 - val_loss: 0.6395 - learning_rate: 1.0000e-04\n",
      "Epoch 7/10\n",
      "\u001b[1m5621/5627\u001b[0m \u001b[32m━━━━━━━━━━━━━━━━━━━\u001b[0m\u001b[37m━\u001b[0m \u001b[1m0s\u001b[0m 7ms/step - accuracy: 0.9042 - loss: 0.5845\n",
      "Epoch 7: ReduceLROnPlateau reducing learning rate to 1.0000000474974514e-05.\n",
      "\u001b[1m5627/5627\u001b[0m \u001b[32m━━━━━━━━━━━━━━━━━━━━\u001b[0m\u001b[37m\u001b[0m \u001b[1m41s\u001b[0m 7ms/step - accuracy: 0.9042 - loss: 0.5845 - val_accuracy: 0.8750 - val_loss: 0.6407 - learning_rate: 1.0000e-04\n",
      "Epoch 8/10\n",
      "\u001b[1m5627/5627\u001b[0m \u001b[32m━━━━━━━━━━━━━━━━━━━━\u001b[0m\u001b[37m\u001b[0m \u001b[1m41s\u001b[0m 7ms/step - accuracy: 0.9055 - loss: 0.5820 - val_accuracy: 0.8736 - val_loss: 0.6407 - learning_rate: 1.0000e-05\n",
      "Epoch 9/10\n",
      "\u001b[1m5624/5627\u001b[0m \u001b[32m━━━━━━━━━━━━━━━━━━━\u001b[0m\u001b[37m━\u001b[0m \u001b[1m0s\u001b[0m 7ms/step - accuracy: 0.9068 - loss: 0.5806\n",
      "Epoch 9: ReduceLROnPlateau reducing learning rate to 1.0000000656873453e-06.\n",
      "\u001b[1m5627/5627\u001b[0m \u001b[32m━━━━━━━━━━━━━━━━━━━━\u001b[0m\u001b[37m\u001b[0m \u001b[1m41s\u001b[0m 7ms/step - accuracy: 0.9068 - loss: 0.5806 - val_accuracy: 0.8733 - val_loss: 0.6406 - learning_rate: 1.0000e-05\n"
     ]
    }
   ],
   "source": [
    "tf.random.set_seed(42)\n",
    "\n",
    "model.compile(\n",
    "    loss=tf.keras.losses.CategoricalCrossentropy(label_smoothing=0.1),\n",
    "    optimizer=tf.keras.optimizers.Adam(learning_rate=0.001),\n",
    "    metrics=METRICS\n",
    ")\n",
    "\n",
    "print(f'Training {model.name}.')\n",
    "print(f'Train on {train_sentences_count} samples, validate on {val_sentences_count} samples.')\n",
    "print('----------------------------------')\n",
    "\n",
    "model_history = train_model(\n",
    "    model, EPOCHS, CALLBACKS,\n",
    "    train_ds, val_ds,\n",
    "    shuffling=False\n",
    ")"
   ]
  },
  {
   "cell_type": "code",
   "execution_count": null,
   "id": "427d7c78",
   "metadata": {},
   "outputs": [],
   "source": []
  }
 ],
 "metadata": {
  "kernelspec": {
   "display_name": "Python 3",
   "language": "python",
   "name": "python3"
  },
  "language_info": {
   "codemirror_mode": {
    "name": "ipython",
    "version": 3
   },
   "file_extension": ".py",
   "mimetype": "text/x-python",
   "name": "python",
   "nbconvert_exporter": "python",
   "pygments_lexer": "ipython3",
   "version": "3.12.1"
  }
 },
 "nbformat": 4,
 "nbformat_minor": 5
}
